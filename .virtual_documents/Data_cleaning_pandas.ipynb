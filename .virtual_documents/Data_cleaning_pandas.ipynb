# Dependencies and Setup
import pandas as pd
from pathlib import Path


# Read csv data into Pandas DataFrame
listings_df = pd.read_csv("Resources/listings.csv")



# Checking for null values on the column level
listings_df.info()


# Dropping all fully null columns
listings_df = listings_df.drop(['description', 'neighbourhood_group_cleansed', 'bathrooms', 'calendar_updated'], axis=1)



# Re-checking for null values on the column level
listings_df.info()


# Dropping uneeded partially null columns
listings_df = listings_df.drop(['neighborhood_overview', 'host_location',
                                'host_about', 'host_response_time',
                                'host_response_rate', 'host_acceptance_rate',
                                'host_neighbourhood', 'neighbourhood', 'bedrooms', 
                                'first_review', 'last_review', 'review_scores_accuracy',
                                'review_scores_checkin', 'review_scores_communication',
                                'review_scores_location', 'reviews_per_month'], axis=1)


# Checking for unneccarry columns to drop
listings_df.info()


license_status = listings_df['license']
# listings_df.loc[listings_df['license'] == 'Half-bath', 'license'] = None

license_status = []


# a column that says licensed or unlicensed
for index, row in listings_df.iterrows():
    if row['license'] == 'Pending Application':
        license_status.append('Pending')
    elif row['license'] == 'City Registration Pending':
        license_status.append('Pending')
    elif row['license'] == 'pending':
        license_status.append('Pending')
    elif row['license'] == 'â€œCity application pendingâ€':
        license_status.append('Pending')
    elif row['license'] == 'City Registration Pending 1010281':
        license_status.append('Pending')
    elif row['license'] == 'City Registration Pending (1010281)':
        license_status.append('Pending')
    elif row['license'] == 'City Registration Pending since 10/24/2015':
        license_status.append('Pending')
    elif row['license'] == 'San Francisco City registration pending.':
        license_status.append('Pending')
    elif row['license'] == 'Application has been submited':
        license_status.append('Pending')
    elif row['license'] == 'Exempt':
        license_status.append('Exempt')
    elif row['license'] == 'No license required.':
        license_status.append('Exempt')
    elif row['license'] == 'License not needed per OSTR':
        license_status.append('Unlicensed')
    elif row['license'] == '30 Day Minimum Stay Required':
        license_status.append('Unlicensed')
    elif row['license'] == 'No registration number 30 days or more rental (only long term basis).':
        license_status.append('Unlicensed')
    elif row['license'] == 'Since the casita is considered an accessory dwelling unit, the City of San Francisco only allows us to host stays that are 30 days or longer...sorry!':
        license_status.append('Unlicensed')
    elif row['license'] == None:
        license_status.append('Unlicensed')
    else:
        license_status.append('Licensed')  

listings_df['license_status'] = license_status

listings_df['license_status']
# pending unlicensed licensed exempt


# Checking for unnecessary columns to drop
listings_df.info()


# Dropping uneeded columns 
listings_df = listings_df.drop(['scrape_id', 'last_scraped',
                                'source', 'host_url', 'host_thumbnail_url', 
                                'host_picture_url', 
                                'host_verifications', 'host_has_profile_pic',
                                'property_type', 'calendar_last_scraped', 
                                'number_of_reviews_l30d', 'license', 'instant_bookable'], axis=1)


# convert dtype of collumns to date time
listings_df['host_since'] = pd.to_datetime(listings_df['host_since'])


#convert dtypes of columns to boolean 
listings_df['host_is_superhost'] = listings_df['host_is_superhost'].astype(bool)
listings_df['host_identity_verified'] = listings_df['host_identity_verified'].astype(bool)
listings_df['has_availability'] = listings_df['has_availability'].astype(bool)



# checking text values
listings_df['bathrooms_text'].unique()


# remove text from bathrooms_text column and store in a new column
listings_df['bathrooms'] = listings_df['bathrooms_text'].str.split().str[0]


# Rechecking text values
listings_df['bathrooms'].unique()


# Changing non numerical values to null
listings_df.loc[listings_df['bathrooms'] == 'Half-bath', 'bathrooms'] = None
listings_df.loc[listings_df['bathrooms'] == 'Shared', 'bathrooms'] = None
listings_df.loc[listings_df['bathrooms'] == 'Private', 'bathrooms'] = None



# Checking new values
listings_df['bathrooms'].unique()



# drop bathroom_text column.
listings_df = listings_df.drop(['bathrooms_text'], axis=1)


# Checking price values
listings_df['price'].unique()


#convert text columns to float
listings_df['bathrooms'] = listings_df['bathrooms'].astype(float)
listings_df['price'] = listings_df['price'].str.replace('$','').str.replace(',', '').str.replace('.00', '').astype(int)



# Checking new price values
listings_df['price'].unique()


# Confirming all dtypes 
listings_df.info()


# Creating master data file
# removing reviews columns
listings_cleaned = listings_df.drop(['review_scores_rating', 'review_scores_cleanliness', 'review_scores_value'], axis=1)
#drop null
listings_cleaned = listings_cleaned.dropna()
# save master data
listings_cleaned.to_csv('Resources/listings_cleaned.csv', index=False)
listings_cleaned.to_json('Resources/listings_cleaned.json', orient='records')
listings_cleaned.info()                       


# creating a Review file
#dropping null values
review_cleaned = listings_df.dropna()
# save review dtaframe
review_cleaned.to_csv('Resources/review_cleaned.csv', index=False)
review_cleaned.to_json('Resources/review_cleaned.json', orient='records')










