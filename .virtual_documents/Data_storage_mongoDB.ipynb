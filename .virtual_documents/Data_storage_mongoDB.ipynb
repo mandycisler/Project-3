# import via notebook
!mongoimport --type json -d air_b_and_b -c listings --drop --jsonArray Resources/listings_cleaned.json
!mongoimport --type json -d air_b_and_b -c reviews --drop --jsonArray Resources/review_cleaned.json



# Import dependencies
from pymongo import MongoClient
from pprint import pprint


# Create an instance of MongoClient
mongo = MongoClient(port=27017)


# confirm that our new database was created
mongo.list_database_names()


db = mongo['air_b_and_b']
db.list_collection_names()






