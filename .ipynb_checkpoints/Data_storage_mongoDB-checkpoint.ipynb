{
 "cells": [
  {
   "cell_type": "code",
   "execution_count": 1,
   "id": "7dda3560-0318-4247-891e-2ea677c6a1b4",
   "metadata": {},
   "outputs": [
    {
     "name": "stdout",
     "output_type": "stream",
     "text": [
      "2024-03-17T09:18:11.277-0700\tconnected to: mongodb://localhost/\n",
      "2024-03-17T09:18:11.278-0700\tdropping: air_b_and_b.listings\n",
      "2024-03-17T09:18:11.762-0700\t7927 document(s) imported successfully. 0 document(s) failed to import.\n",
      "2024-03-17T09:18:11.898-0700\tconnected to: mongodb://localhost/\n",
      "2024-03-17T09:18:11.898-0700\tdropping: air_b_and_b.reviews\n",
      "2024-03-17T09:18:12.238-0700\t6076 document(s) imported successfully. 0 document(s) failed to import.\n"
     ]
    }
   ],
   "source": [
    "# import via notebook\n",
    "!mongoimport --type json -d air_b_and_b -c listings --drop --jsonArray Resources/listings_cleaned.json\n",
    "!mongoimport --type json -d air_b_and_b -c reviews --drop --jsonArray Resources/review_cleaned.json\n"
   ]
  },
  {
   "cell_type": "code",
   "execution_count": 2,
   "id": "262a175e-69bf-4469-85dd-0babf0f9c0b2",
   "metadata": {},
   "outputs": [],
   "source": [
    "# Import dependencies\n",
    "from pymongo import MongoClient\n",
    "from pprint import pprint"
   ]
  },
  {
   "cell_type": "code",
   "execution_count": 3,
   "id": "ec4b4469-1180-4026-8e9a-5f975dba2cee",
   "metadata": {},
   "outputs": [],
   "source": [
    "# Create an instance of MongoClient\n",
    "mongo = MongoClient(port=27017)"
   ]
  },
  {
   "cell_type": "code",
   "execution_count": 4,
   "id": "6b86455d-1b4c-4b11-801c-8685464551f3",
   "metadata": {},
   "outputs": [
    {
     "data": {
      "text/plain": [
       "['admin',\n",
       " 'air_b_and_b',\n",
       " 'autosaurus',\n",
       " 'classDB',\n",
       " 'config',\n",
       " 'gardenDB',\n",
       " 'local',\n",
       " 'met',\n",
       " 'uk_food']"
      ]
     },
     "execution_count": 4,
     "metadata": {},
     "output_type": "execute_result"
    }
   ],
   "source": [
    "# confirm that our new database was created\n",
    "mongo.list_database_names()"
   ]
  },
  {
   "cell_type": "code",
   "execution_count": 5,
   "id": "bd56667f-ae3f-4afb-8ea9-7c2b342b8ca2",
   "metadata": {},
   "outputs": [
    {
     "data": {
      "text/plain": [
       "['listings', 'reviews']"
      ]
     },
     "execution_count": 5,
     "metadata": {},
     "output_type": "execute_result"
    }
   ],
   "source": [
    "db = mongo['air_b_and_b']\n",
    "db.list_collection_names()"
   ]
  },
  {
   "cell_type": "code",
   "execution_count": null,
   "id": "b06d9e1a-7929-4114-894f-999d67d878a0",
   "metadata": {},
   "outputs": [],
   "source": []
  },
  {
   "cell_type": "code",
   "execution_count": null,
   "id": "0aca6b48-c1d1-41c9-af02-0c1fefda6468",
   "metadata": {},
   "outputs": [],
   "source": []
  }
 ],
 "metadata": {
  "kernelspec": {
   "display_name": "Python 3 (ipykernel)",
   "language": "python",
   "name": "python3"
  },
  "language_info": {
   "codemirror_mode": {
    "name": "ipython",
    "version": 3
   },
   "file_extension": ".py",
   "mimetype": "text/x-python",
   "name": "python",
   "nbconvert_exporter": "python",
   "pygments_lexer": "ipython3",
   "version": "3.11.5"
  }
 },
 "nbformat": 4,
 "nbformat_minor": 5
}
