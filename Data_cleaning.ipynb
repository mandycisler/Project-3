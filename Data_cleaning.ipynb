{
 "cells": [
  {
   "cell_type": "code",
   "execution_count": 33,
   "id": "bfab7136-0789-4505-897c-dd55ae11c998",
   "metadata": {},
   "outputs": [],
   "source": [
    "# Dependencies and Setup\n",
    "import pandas as pd\n",
    "from pathlib import Path"
   ]
  },
  {
   "cell_type": "code",
   "execution_count": 34,
   "id": "fb71a080-3622-4ba2-843b-61d92427930d",
   "metadata": {
    "scrolled": true
   },
   "outputs": [],
   "source": [
    "# Read csv data into Pandas DataFrame\n",
    "listings_df = pd.read_csv(\"Resources/listings.csv\")\n"
   ]
  },
  {
   "cell_type": "code",
   "execution_count": 35,
   "id": "302d29c9-1e45-4b5b-ac77-8b141607eaea",
   "metadata": {},
   "outputs": [
    {
     "name": "stdout",
     "output_type": "stream",
     "text": [
      "<class 'pandas.core.frame.DataFrame'>\n",
      "RangeIndex: 8056 entries, 0 to 8055\n",
      "Data columns (total 75 columns):\n",
      " #   Column                                        Non-Null Count  Dtype  \n",
      "---  ------                                        --------------  -----  \n",
      " 0   id                                            8056 non-null   int64  \n",
      " 1   listing_url                                   8056 non-null   object \n",
      " 2   scrape_id                                     8056 non-null   int64  \n",
      " 3   last_scraped                                  8056 non-null   object \n",
      " 4   source                                        8056 non-null   object \n",
      " 5   name                                          8056 non-null   object \n",
      " 6   description                                   0 non-null      float64\n",
      " 7   neighborhood_overview                         5613 non-null   object \n",
      " 8   picture_url                                   8056 non-null   object \n",
      " 9   host_id                                       8056 non-null   int64  \n",
      " 10  host_url                                      8056 non-null   object \n",
      " 11  host_name                                     8055 non-null   object \n",
      " 12  host_since                                    8055 non-null   object \n",
      " 13  host_location                                 6464 non-null   object \n",
      " 14  host_about                                    4969 non-null   object \n",
      " 15  host_response_time                            6747 non-null   object \n",
      " 16  host_response_rate                            6747 non-null   object \n",
      " 17  host_acceptance_rate                          7170 non-null   object \n",
      " 18  host_is_superhost                             7992 non-null   object \n",
      " 19  host_thumbnail_url                            8055 non-null   object \n",
      " 20  host_picture_url                              8055 non-null   object \n",
      " 21  host_neighbourhood                            7718 non-null   object \n",
      " 22  host_listings_count                           8055 non-null   float64\n",
      " 23  host_total_listings_count                     8055 non-null   float64\n",
      " 24  host_verifications                            8055 non-null   object \n",
      " 25  host_has_profile_pic                          8055 non-null   object \n",
      " 26  host_identity_verified                        8055 non-null   object \n",
      " 27  neighbourhood                                 5613 non-null   object \n",
      " 28  neighbourhood_cleansed                        8056 non-null   object \n",
      " 29  neighbourhood_group_cleansed                  0 non-null      float64\n",
      " 30  latitude                                      8056 non-null   float64\n",
      " 31  longitude                                     8056 non-null   float64\n",
      " 32  property_type                                 8056 non-null   object \n",
      " 33  room_type                                     8056 non-null   object \n",
      " 34  accommodates                                  8056 non-null   int64  \n",
      " 35  bathrooms                                     0 non-null      float64\n",
      " 36  bathrooms_text                                8047 non-null   object \n",
      " 37  bedrooms                                      5 non-null      float64\n",
      " 38  beds                                          7959 non-null   float64\n",
      " 39  amenities                                     8056 non-null   object \n",
      " 40  price                                         8056 non-null   object \n",
      " 41  minimum_nights                                8056 non-null   int64  \n",
      " 42  maximum_nights                                8056 non-null   int64  \n",
      " 43  minimum_minimum_nights                        8056 non-null   int64  \n",
      " 44  maximum_minimum_nights                        8056 non-null   int64  \n",
      " 45  minimum_maximum_nights                        8056 non-null   int64  \n",
      " 46  maximum_maximum_nights                        8056 non-null   int64  \n",
      " 47  minimum_nights_avg_ntm                        8056 non-null   float64\n",
      " 48  maximum_nights_avg_ntm                        8056 non-null   float64\n",
      " 49  calendar_updated                              0 non-null      float64\n",
      " 50  has_availability                              8056 non-null   object \n",
      " 51  availability_30                               8056 non-null   int64  \n",
      " 52  availability_60                               8056 non-null   int64  \n",
      " 53  availability_90                               8056 non-null   int64  \n",
      " 54  availability_365                              8056 non-null   int64  \n",
      " 55  calendar_last_scraped                         8056 non-null   object \n",
      " 56  number_of_reviews                             8056 non-null   int64  \n",
      " 57  number_of_reviews_ltm                         8056 non-null   int64  \n",
      " 58  number_of_reviews_l30d                        8056 non-null   int64  \n",
      " 59  first_review                                  6172 non-null   object \n",
      " 60  last_review                                   6172 non-null   object \n",
      " 61  review_scores_rating                          6175 non-null   float64\n",
      " 62  review_scores_accuracy                        6173 non-null   float64\n",
      " 63  review_scores_cleanliness                     6173 non-null   float64\n",
      " 64  review_scores_checkin                         6172 non-null   float64\n",
      " 65  review_scores_communication                   6173 non-null   float64\n",
      " 66  review_scores_location                        6172 non-null   float64\n",
      " 67  review_scores_value                           6172 non-null   float64\n",
      " 68  license                                       5091 non-null   object \n",
      " 69  instant_bookable                              8056 non-null   object \n",
      " 70  calculated_host_listings_count                8056 non-null   int64  \n",
      " 71  calculated_host_listings_count_entire_homes   8056 non-null   int64  \n",
      " 72  calculated_host_listings_count_private_rooms  8056 non-null   int64  \n",
      " 73  calculated_host_listings_count_shared_rooms   8056 non-null   int64  \n",
      " 74  reviews_per_month                             6172 non-null   float64\n",
      "dtypes: float64(20), int64(21), object(34)\n",
      "memory usage: 4.6+ MB\n"
     ]
    }
   ],
   "source": [
    "# Checking for null values on the column level\n",
    "listings_df.info()"
   ]
  },
  {
   "cell_type": "code",
   "execution_count": 36,
   "id": "a65c0bc6-6516-4692-a8b4-f0e296367008",
   "metadata": {
    "scrolled": true
   },
   "outputs": [],
   "source": [
    "# Dropping all fully null columns\n",
    "listings_df = listings_df.drop(['description', 'neighbourhood_group_cleansed', 'bathrooms', 'calendar_updated'], axis=1)\n"
   ]
  },
  {
   "cell_type": "code",
   "execution_count": null,
   "id": "ef1c8336-690a-4093-9450-992a40d41074",
   "metadata": {},
   "outputs": [],
   "source": [
    "# Re-checking for null values on the column level\n",
    "listings_df.info()"
   ]
  },
  {
   "cell_type": "code",
   "execution_count": 37,
   "id": "640af397-bad8-41fc-8339-90898f9bd08a",
   "metadata": {},
   "outputs": [],
   "source": [
    "# Dropping uneeded partially null columns\n",
    "listings_df = listings_df.drop(['neighborhood_overview', 'host_location',\n",
    "                                'host_about', 'host_response_time',\n",
    "                                'host_response_rate', 'host_acceptance_rate',\n",
    "                                'host_neighbourhood', 'neighbourhood', 'bedrooms', \n",
    "                                'first_review', 'last_review', 'review_scores_accuracy',\n",
    "                                'review_scores_checkin', 'review_scores_communication',\n",
    "                                'review_scores_location', 'reviews_per_month'], axis=1)"
   ]
  },
  {
   "cell_type": "code",
   "execution_count": null,
   "id": "f8e2d0ad-15c4-4b1a-a6b0-ffb73668e8e2",
   "metadata": {},
   "outputs": [],
   "source": [
    "# Checking for unneccarry columns to drop\n",
    "listings_df.info()"
   ]
  },
  {
   "cell_type": "code",
   "execution_count": 38,
   "id": "8b7c4f5b-c27f-4d6b-a5d8-d9a82f3c7ee6",
   "metadata": {},
   "outputs": [
    {
     "data": {
      "text/plain": [
       "0        Pending\n",
       "1       Licensed\n",
       "2       Licensed\n",
       "3       Licensed\n",
       "4       Licensed\n",
       "          ...   \n",
       "8051    Licensed\n",
       "8052      Exempt\n",
       "8053      Exempt\n",
       "8054      Exempt\n",
       "8055    Licensed\n",
       "Name: license_status, Length: 8056, dtype: object"
      ]
     },
     "execution_count": 38,
     "metadata": {},
     "output_type": "execute_result"
    }
   ],
   "source": [
    "# Creating a new coloumn for visulization by converting license values into four categories -> pending, unlicensed, licensed or exempt.\n",
    "\n",
    "# creating a empty list for the values for our new column\n",
    "license_status = []\n",
    "\n",
    "\n",
    "# iterrating through license column and conditions\n",
    "for index, row in listings_df.iterrows():\n",
    "    if row['license'] == 'Pending Application':\n",
    "        license_status.append('Pending')\n",
    "    elif row['license'] == 'City Registration Pending':\n",
    "        license_status.append('Pending')\n",
    "    elif row['license'] == 'pending':\n",
    "        license_status.append('Pending')\n",
    "    elif row['license'] == 'â€œCity application pendingâ€':\n",
    "        license_status.append('Pending')\n",
    "    elif row['license'] == 'City Registration Pending 1010281':\n",
    "        license_status.append('Pending')\n",
    "    elif row['license'] == 'City Registration Pending (1010281)':\n",
    "        license_status.append('Pending')\n",
    "    elif row['license'] == 'City Registration Pending since 10/24/2015':\n",
    "        license_status.append('Pending')\n",
    "    elif row['license'] == 'San Francisco City registration pending.':\n",
    "        license_status.append('Pending')\n",
    "    elif row['license'] == 'Application has been submited':\n",
    "        license_status.append('Pending')\n",
    "    elif row['license'] == 'Exempt':\n",
    "        license_status.append('Exempt')\n",
    "    elif row['license'] == 'No license required.':\n",
    "        license_status.append('Exempt')\n",
    "    elif row['license'] == 'License not needed per OSTR':\n",
    "        license_status.append('Unlicensed')\n",
    "    elif row['license'] == '30 Day Minimum Stay Required':\n",
    "        license_status.append('Unlicensed')\n",
    "    elif row['license'] == 'No registration number 30 days or more rental (only long term basis).':\n",
    "        license_status.append('Unlicensed')\n",
    "    elif row['license'] == 'Since the casita is considered an accessory dwelling unit, the City of San Francisco only allows us to host stays that are 30 days or longer...sorry!':\n",
    "        license_status.append('Unlicensed')\n",
    "    elif row['license'] == None:\n",
    "        license_status.append('Unlicensed')\n",
    "    else:\n",
    "        license_status.append('Licensed')  \n",
    "\n",
    "# Creating a new column and assigning it's values\n",
    "listings_df['license_status'] = license_status\n",
    "\n",
    "listings_df['license_status']\n"
   ]
  },
  {
   "cell_type": "code",
   "execution_count": null,
   "id": "4ec7530f-6c8c-4ec1-b904-8f63547444ae",
   "metadata": {},
   "outputs": [],
   "source": [
    "# Checking for unnecessary columns to drop\n",
    "listings_df.info()"
   ]
  },
  {
   "cell_type": "code",
   "execution_count": null,
   "id": "2c635c36-80ad-40cf-80ad-e150f7760765",
   "metadata": {},
   "outputs": [],
   "source": [
    "# Dropping uneeded columns \n",
    "listings_df = listings_df.drop(['scrape_id', 'last_scraped',\n",
    "                                'source', 'host_url', 'host_thumbnail_url', \n",
    "                                'host_picture_url', \n",
    "                                'host_verifications', 'host_has_profile_pic',\n",
    "                                'property_type', 'calendar_last_scraped', \n",
    "                                'number_of_reviews_l30d', 'license', 'instant_bookable'], axis=1)"
   ]
  },
  {
   "cell_type": "code",
   "execution_count": null,
   "id": "a3ad68a7-294a-4869-86d1-22ae53ef09b8",
   "metadata": {},
   "outputs": [],
   "source": [
    "# convert dtype of collumns to date time\n",
    "listings_df['host_since'] = pd.to_datetime(listings_df['host_since'])"
   ]
  },
  {
   "cell_type": "code",
   "execution_count": null,
   "id": "0a6e24b3-5582-488f-8a3c-5f051a8225c3",
   "metadata": {},
   "outputs": [],
   "source": [
    "#convert dtypes of columns to boolean \n",
    "listings_df['host_is_superhost'] = listings_df['host_is_superhost'].astype(bool)\n",
    "listings_df['host_identity_verified'] = listings_df['host_identity_verified'].astype(bool)\n",
    "listings_df['has_availability'] = listings_df['has_availability'].astype(bool)\n"
   ]
  },
  {
   "cell_type": "code",
   "execution_count": null,
   "id": "76fd457f",
   "metadata": {},
   "outputs": [],
   "source": [
    "# checking text values\n",
    "listings_df['bathrooms_text'].unique()"
   ]
  },
  {
   "cell_type": "code",
   "execution_count": null,
   "id": "383ef39c-c33a-46c0-8b4a-dfaca6e680ff",
   "metadata": {},
   "outputs": [],
   "source": [
    "# remove text from bathrooms_text column and store in a new column\n",
    "listings_df['bathrooms'] = listings_df['bathrooms_text'].str.split().str[0]"
   ]
  },
  {
   "cell_type": "code",
   "execution_count": null,
   "id": "1cb52f52-eb59-4111-9a0d-19d6a3fa594f",
   "metadata": {},
   "outputs": [],
   "source": [
    "# Rechecking text values\n",
    "listings_df['bathrooms'].unique()"
   ]
  },
  {
   "cell_type": "code",
   "execution_count": null,
   "id": "8ff8eaa8-b704-42a9-8ef4-1199ba1d3800",
   "metadata": {},
   "outputs": [],
   "source": [
    "# Changing non numerical values to null\n",
    "listings_df.loc[listings_df['bathrooms'] == 'Half-bath', 'bathrooms'] = None\n",
    "listings_df.loc[listings_df['bathrooms'] == 'Shared', 'bathrooms'] = None\n",
    "listings_df.loc[listings_df['bathrooms'] == 'Private', 'bathrooms'] = None\n"
   ]
  },
  {
   "cell_type": "code",
   "execution_count": null,
   "id": "208bacfa-5b8c-4c84-bd5c-41b6a9d4d52f",
   "metadata": {},
   "outputs": [],
   "source": [
    "# Checking new values\n",
    "listings_df['bathrooms'].unique()"
   ]
  },
  {
   "cell_type": "code",
   "execution_count": null,
   "id": "97388b94-bd19-4bf9-be7e-9e481f60c78b",
   "metadata": {},
   "outputs": [],
   "source": [
    "\n",
    "# drop bathroom_text column.\n",
    "listings_df = listings_df.drop(['bathrooms_text'], axis=1)"
   ]
  },
  {
   "cell_type": "code",
   "execution_count": null,
   "id": "4faa5784-37cc-45f6-b96a-5159fd844dab",
   "metadata": {
    "scrolled": true
   },
   "outputs": [],
   "source": [
    "# Checking price values\n",
    "listings_df['price'].unique()"
   ]
  },
  {
   "cell_type": "code",
   "execution_count": null,
   "id": "959f18ec-f154-42a6-988b-4b5e9698f26f",
   "metadata": {},
   "outputs": [],
   "source": [
    "#convert text columns to float\n",
    "listings_df['bathrooms'] = listings_df['bathrooms'].astype(float)\n",
    "listings_df['price'] = listings_df['price'].str.replace('$','').str.replace(',', '').str.replace('.00', '').astype(int)\n"
   ]
  },
  {
   "cell_type": "code",
   "execution_count": null,
   "id": "8e56d194-d397-4308-9379-a1a98fbc0a9f",
   "metadata": {
    "scrolled": true
   },
   "outputs": [],
   "source": [
    "# Checking new price values\n",
    "listings_df['price'].unique()"
   ]
  },
  {
   "cell_type": "code",
   "execution_count": null,
   "id": "ed70c4ad-8506-43a1-8d83-d6a4c3a0715e",
   "metadata": {},
   "outputs": [],
   "source": [
    "# Confirming all dtypes \n",
    "listings_df.info()"
   ]
  },
  {
   "cell_type": "code",
   "execution_count": null,
   "id": "6990aac8-f7ff-40ca-b33d-e745077e6c30",
   "metadata": {},
   "outputs": [],
   "source": [
    "# Creating master data file\n",
    "# removing reviews columns\n",
    "listings_cleaned = listings_df.drop(['review_scores_rating', 'review_scores_cleanliness', 'review_scores_value'], axis=1)\n",
    "#drop null\n",
    "listings_cleaned = listings_cleaned.dropna()\n",
    "# save master data\n",
    "listings_cleaned.to_csv('Resources/listings_cleaned.csv', index=False)\n",
    "listings_cleaned.to_json('Resources/listings_cleaned.json', orient='records')\n",
    "listings_cleaned.info()                       "
   ]
  },
  {
   "cell_type": "code",
   "execution_count": null,
   "id": "cd1630e5-bb8b-456e-aba4-5e05b7bd6d42",
   "metadata": {},
   "outputs": [],
   "source": [
    "# creating a Review file\n",
    "#dropping null values\n",
    "review_cleaned = listings_df.dropna()\n",
    "# save review dtaframe\n",
    "review_cleaned.to_csv('Resources/review_cleaned.csv', index=False)\n",
    "review_cleaned.to_json('Resources/review_cleaned.json', orient='records')\n",
    "review_cleaned.info()  "
   ]
  }
 ],
 "metadata": {
  "kernelspec": {
   "display_name": "Python 3 (ipykernel)",
   "language": "python",
   "name": "python3"
  },
  "language_info": {
   "codemirror_mode": {
    "name": "ipython",
    "version": 3
   },
   "file_extension": ".py",
   "mimetype": "text/x-python",
   "name": "python",
   "nbconvert_exporter": "python",
   "pygments_lexer": "ipython3",
   "version": "3.10.13"
  }
 },
 "nbformat": 4,
 "nbformat_minor": 5
}
